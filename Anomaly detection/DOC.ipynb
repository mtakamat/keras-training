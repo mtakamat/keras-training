{
  "nbformat": 4,
  "nbformat_minor": 0,
  "metadata": {
    "colab": {
      "name": "DOC.ipynb",
      "provenance": [],
      "collapsed_sections": []
    },
    "kernelspec": {
      "name": "python3",
      "display_name": "Python 3"
    },
    "accelerator": "GPU"
  },
  "cells": [
    {
      "cell_type": "code",
      "metadata": {
        "id": "b9vgb8J33CwH",
        "colab_type": "code",
        "colab": {}
      },
      "source": [
        "#データセットの読み込み\n",
        "#データセットは，fashion ministを使用\n",
        "from keras.datasets import fashion_mnist\n",
        "from keras.utils import to_categorical\n",
        "import numpy as np\n",
        "import matplotlib.pyplot as plt\n",
        "\n",
        "# dataset\n",
        "(x_train, y_train), (x_test, y_test) = fashion_mnist.load_data()\n",
        "\n",
        "x_train = x_train.reshape(x_train.shape[0], 28, 28, 1)\n",
        "x_test = x_test.reshape(x_test.shape[0], 28, 28, 1)\n",
        "\n",
        "x_train = x_train.astype('float32') / 255\n",
        "x_test = x_test.astype('float32') / 255\n",
        "\n",
        "#学習データ作成\n",
        "x_train_s, x_test_s, x_test_b = [], [], []\n",
        "x_ref, y_ref = [], []\n",
        "\n",
        "x_train_shape = x_train.shape\n",
        "\n",
        "for i in range(len(x_train)):\n",
        "  #7番目(スニーカー)を使う\n",
        "    if y_train[i] == 7:\n",
        "        temp = x_train[i]\n",
        "        x_train_s.append(temp.reshape((x_train_shape[1:])))\n",
        "    else:\n",
        "        temp = x_train[i]\n",
        "        x_ref.append(temp.reshape((x_train_shape[1:])))\n",
        "        y_ref.append(y_train[i])\n",
        "\n",
        "x_ref = np.array(x_ref)\n",
        "\n",
        "#refデータからランダムに6000個抽出\n",
        "number = np.random.choice(np.arange(0,x_ref.shape[0]),6000,replace=False)\n",
        "\n",
        "x, y = [], []\n",
        "\n",
        "x_ref_shape = x_ref.shape\n",
        "\n",
        "for i in number:\n",
        "    temp = x_ref[i]\n",
        "    x.append(temp.reshape((x_ref_shape[1:])))\n",
        "    y.append(y_ref[i])\n",
        "\n",
        "x_train_s = np.array(x_train_s)\n",
        "x_ref = np.array(x)\n",
        "y_ref = to_categorical(y)\n",
        "\n",
        "#テストデータ作成\n",
        "for i in range(len(x_test)):\n",
        "    if y_test[i] == 7:#7：スニーカー\n",
        "        temp = x_test[i,:,:,:]\n",
        "        x_test_s.append(temp.reshape((x_train_shape[1:])))\n",
        "\n",
        "    if y_test[i] == 9:#9：ブーツ\n",
        "        temp = x_test[i,:,:,:]\n",
        "        x_test_b.append(temp.reshape((x_train_shape[1:])))\n",
        "\n",
        "x_test_s = np.array(x_test_s)\n",
        "x_test_b = np.array(x_test_b)"
      ],
      "execution_count": 0,
      "outputs": []
    },
    {
      "cell_type": "code",
      "metadata": {
        "id": "0ufM1Il-3ysK",
        "colab_type": "code",
        "colab": {}
      },
      "source": [
        "#画像サイズのリサイズ\n",
        "import cv2\n",
        "from PIL import Image\n",
        "\n",
        "def resize(x):\n",
        "    x_out = []\n",
        "\n",
        "    for i in range(len(x)):\n",
        "        img = cv2.cvtColor(x[i], cv2.COLOR_GRAY2RGB)\n",
        "        img = cv2.resize(img,dsize=(96,96))\n",
        "        x_out.append(img)\n",
        "\n",
        "    return np.array(x_out)\n",
        "\n",
        "X_train_s = resize(x_train_s)\n",
        "X_ref = resize(x_ref)\n",
        "X_test_s = resize(x_test_s)\n",
        "X_test_b = resize(x_test_b)"
      ],
      "execution_count": 0,
      "outputs": []
    },
    {
      "cell_type": "code",
      "metadata": {
        "id": "w6FEbxCy5Wia",
        "colab_type": "code",
        "colab": {}
      },
      "source": [
        "#ネットワークのライブラリを読み込む\n",
        "from keras.applications import MobileNetV2, VGG16\n",
        "from keras.optimizers import SGD\n",
        "from keras.models import Model\n",
        "from keras.layers import GlobalAveragePooling2D, Dense\n",
        "from keras import backend as K\n",
        "from keras.engine.network import Network"
      ],
      "execution_count": 0,
      "outputs": []
    },
    {
      "cell_type": "code",
      "metadata": {
        "id": "sXumipSR5fkA",
        "colab_type": "code",
        "colab": {}
      },
      "source": [
        ""
      ],
      "execution_count": 0,
      "outputs": []
    }
  ]
}