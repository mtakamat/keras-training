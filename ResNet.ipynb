{
  "nbformat": 4,
  "nbformat_minor": 0,
  "metadata": {
    "colab": {
      "name": "Untitled15.ipynb",
      "provenance": []
    },
    "kernelspec": {
      "name": "python3",
      "display_name": "Python 3"
    }
  },
  "cells": [
    {
      "cell_type": "code",
      "metadata": {
        "id": "WD6YuuBaW_Ri",
        "colab_type": "code",
        "colab": {}
      },
      "source": [
        "from keras.layers import Input, Conv2D, Activation, BatchNormalization\n",
        "from keras.layers.merge import Add\n",
        "from keras.layers.core import Dropout\n",
        "\n",
        "def res_block(input, filters, kernel_size=(3,3), strides=(1,1), use_dropout=False):\n",
        "    \"\"\"\n",
        "    Instanciate a Keras Resnet Block using sequential API.\n",
        "    :param input: Input tensor\n",
        "    :param filters: Number of filters to use\n",
        "    :param kernel_size: Shape of the kernel for the convolution\n",
        "    :param strides: Shape of the strides for the convolution\n",
        "    :param use_dropout: Boolean value to determine the use of dropout\n",
        "    :return: Keras Model\n",
        "    \"\"\"\n",
        "    x = ReflectionPadding2D((1,1))(input)\n",
        "    x = Conv2D(filters=filters,\n",
        "               kernel_size=kernel_size,\n",
        "               strides=strides,)(x)\n",
        "    x = BatchNormalization()(x)\n",
        "    x = Activation('relu')(x)\n",
        "\n",
        "    if use_dropout:\n",
        "        x = Dropout(0.5)(x)\n",
        "\n",
        "    x = ReflectionPadding2D((1,1))(x)\n",
        "    x = Conv2D(filters=filters,\n",
        "                kernel_size=kernel_size,\n",
        "                strides=strides,)(x)\n",
        "    x = BatchNormalization()(x)\n",
        "\n",
        "    # Two convolution layers followed by a direct connection between input and output\n",
        "    merged = Add()([input, x])\n",
        "    return merged"
      ],
      "execution_count": 0,
      "outputs": []
    }
  ]
}